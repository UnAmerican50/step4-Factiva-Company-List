{
 "cells": [
  {
   "cell_type": "code",
   "execution_count": 1,
   "id": "9f915c8b",
   "metadata": {},
   "outputs": [],
   "source": [
    "import os\n",
    "import time\n",
    "import pandas as pd\n",
    "import numpy as np\n",
    "import gc\n",
    "\n",
    "name=\"\"\n",
    "wrk_dir = r''\n",
    "start = int()\n",
    "end=int()\n",
    "\n",
    "####============================================================================\n",
    "########### MERGE TO GET FCODEINCODE INFO Credit: Alex Tang\n",
    "####============================================================================\n",
    "\n",
    "df1 = pd.read_excel(wrk_dir + '\\\\STEP4_Factiva_company_list_No'+str(start)+'_'+str(end)+'_'+name+'.xlsx')\n",
    "df2 = pd.read_excel(wrk_dir + '\\\\STEP4_sector_code.xlsx')\n",
    "\n",
    "data = df1.set_index('factiva_industry').join(df2.set_index('factiva_industry'), on='factiva_industry', how='left', lsuffix='_left', rsuffix='_right')\n",
    "data.rename(columns = {'fcodeincode_right':'fcodeincode'}, inplace = True)\n",
    "data.to_excel(wrk_dir + '\\\\' + 'STEP4_Factiva_company_list_'+str(start)+'_'+str(end)+'_sector_'+name + '.xlsx')   ## replace the number by your numbers"
   ]
  },
  {
   "cell_type": "code",
   "execution_count": null,
   "id": "8e7adc7d",
   "metadata": {},
   "outputs": [],
   "source": []
  }
 ],
 "metadata": {
  "kernelspec": {
   "display_name": "Python 3 (ipykernel)",
   "language": "python",
   "name": "python3"
  },
  "language_info": {
   "codemirror_mode": {
    "name": "ipython",
    "version": 3
   },
   "file_extension": ".py",
   "mimetype": "text/x-python",
   "name": "python",
   "nbconvert_exporter": "python",
   "pygments_lexer": "ipython3",
   "version": "3.8.13"
  }
 },
 "nbformat": 4,
 "nbformat_minor": 5
}
